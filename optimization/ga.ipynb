{
 "cells": [
  {
   "cell_type": "code",
   "execution_count": 1,
   "metadata": {},
   "outputs": [],
   "source": [
    "import numpy as np\n",
    "from scipy.optimize import differential_evolution\n"
   ]
  },
  {
   "cell_type": "code",
   "execution_count": 2,
   "metadata": {},
   "outputs": [],
   "source": [
    "\n",
    "# Define the objective function\n",
    "def objective_function(thetas):\n",
    "    theta_1, theta_2, theta_3 = thetas\n",
    "    # Replace with the actual objective function\n",
    "    # Example placeholder function\n",
    "    x = np.cos(theta_1) + np.sin(theta_2)\n",
    "    y = np.sin(theta_1) * np.cos(theta_3)\n",
    "    alpha = theta_1 + theta_2 - theta_3\n",
    "    # Objective: minimize a combination of x, y, and alpha (modify as needed)\n",
    "    return x**2 + y**2 + alpha**2\n",
    "\n"
   ]
  },
  {
   "cell_type": "code",
   "execution_count": 4,
   "metadata": {},
   "outputs": [
    {
     "name": "stdout",
     "output_type": "stream",
     "text": [
      "Optimized Inputs:\n",
      "theta_1: 0.0000, theta_2: -1.5708, theta_3: -1.5708\n",
      "\n",
      "Outputs:\n",
      "x: 0.0000, y: -0.0000, alpha: 0.0000\n"
     ]
    }
   ],
   "source": [
    "# Define the bounds for theta_1, theta_2, and theta_3\n",
    "bounds = [(-np.pi, np.pi), (-np.pi, np.pi), (-np.pi, np.pi)]\n",
    "\n",
    "# Run the genetic algorithm\n",
    "result = differential_evolution(objective_function, bounds, strategy='best1bin', \n",
    "                                mutation=(0.5, 1), recombination=0.7, \n",
    "                                tol=1e-6, maxiter=1000, popsize=15, seed=42)\n",
    "\n",
    "# Extract optimized thetas and calculate outputs\n",
    "theta_1_opt, theta_2_opt, theta_3_opt = result.x\n",
    "x_opt = np.cos(theta_1_opt) + np.sin(theta_2_opt)\n",
    "y_opt = np.sin(theta_1_opt) * np.cos(theta_3_opt)\n",
    "alpha_opt = theta_1_opt + theta_2_opt - theta_3_opt\n",
    "\n",
    "# Print results\n",
    "print(\"Optimized Inputs:\")\n",
    "print(f\"theta_1: {theta_1_opt:.4f}, theta_2: {theta_2_opt:.4f}, theta_3: {theta_3_opt:.4f}\")\n",
    "print(\"\\nOutputs:\")\n",
    "print(f\"x: {x_opt:.4f}, y: {y_opt:.4f}, alpha: {alpha_opt:.4f}\")\n"
   ]
  },
  {
   "cell_type": "code",
   "execution_count": null,
   "metadata": {},
   "outputs": [],
   "source": []
  }
 ],
 "metadata": {
  "kernelspec": {
   "display_name": "Python 3",
   "language": "python",
   "name": "python3"
  },
  "language_info": {
   "codemirror_mode": {
    "name": "ipython",
    "version": 3
   },
   "file_extension": ".py",
   "mimetype": "text/x-python",
   "name": "python",
   "nbconvert_exporter": "python",
   "pygments_lexer": "ipython3",
   "version": "3.9.5"
  }
 },
 "nbformat": 4,
 "nbformat_minor": 2
}
