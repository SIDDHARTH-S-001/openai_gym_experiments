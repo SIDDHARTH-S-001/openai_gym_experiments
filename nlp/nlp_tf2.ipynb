{
 "cells": [
  {
   "cell_type": "markdown",
   "metadata": {},
   "source": [
    "The playlist followed\n",
    "\n",
    "https://www.youtube.com/playlist?list=PLQY2H8rRoyvzDbLUZkbudP-MFQZwNmU4S"
   ]
  },
  {
   "cell_type": "markdown",
   "metadata": {},
   "source": [
    "Libraries"
   ]
  },
  {
   "cell_type": "code",
   "execution_count": 2,
   "metadata": {},
   "outputs": [],
   "source": [
    "from keras.preprocessing.text import Tokenizer\n",
    "from tensorflow.keras.preprocessing.sequence import pad_sequences\n",
    "import json"
   ]
  },
  {
   "cell_type": "markdown",
   "metadata": {},
   "source": [
    "Tokenization"
   ]
  },
  {
   "cell_type": "code",
   "execution_count": 3,
   "metadata": {},
   "outputs": [
    {
     "name": "stdout",
     "output_type": "stream",
     "text": [
      "{'love': 1, 'i': 2, 'my': 3, 'dog': 4, 'cat': 5, 'we': 6, 'our': 7}\n"
     ]
    }
   ],
   "source": [
    "# https://www.tensorflow.org/api_docs/python/tf/keras/preprocessing/text/Tokenizer\n",
    "# https://github.com/keras-team/keras/blob/v3.3.3/keras/src/legacy/preprocessing/text.py#L81-L312\n",
    "\n",
    "sentences = [\n",
    "    \"I love my dog\",\n",
    "    \"I love my cat\",\n",
    "    \"We love our dog!\"\n",
    "]\n",
    "\n",
    "tokenizer = Tokenizer(num_words=100) # max words is the i/p parameter.\n",
    "tokenizer.fit_on_texts(sentences)\n",
    "word_index = tokenizer.word_index\n",
    "print(word_index) # prints a dictionary of word and its label\n",
    "# Its possibly prioritizing words that occur frequently"
   ]
  },
  {
   "cell_type": "markdown",
   "metadata": {},
   "source": [
    "Sequencing"
   ]
  },
  {
   "cell_type": "code",
   "execution_count": 4,
   "metadata": {},
   "outputs": [
    {
     "name": "stdout",
     "output_type": "stream",
     "text": [
      "{'<oov>': 1, 'love': 2, 'dog': 3, 'i': 4, 'my': 5, 'our': 6, 'cat': 7, 'we': 8, 'do': 9, 'you': 10, 'think': 11, 'is': 12, 'amazing': 13}\n",
      "[[4, 2, 5, 3], [4, 2, 5, 7], [8, 2, 6, 3], [9, 10, 11, 6, 3, 12, 13]]\n",
      "[[4, 1, 2, 5, 3], [5, 3, 1, 1, 1]]\n",
      "[[ 4  2  5  3  0  0  0]\n",
      " [ 4  2  5  7  0  0  0]\n",
      " [ 8  2  6  3  0  0  0]\n",
      " [ 9 10 11  6  3 12 13]]\n"
     ]
    }
   ],
   "source": [
    "# Creates sequence of integers (labels) for the text provided. \n",
    "# The labels (word_index) is obtained from tokernizer.\n",
    "\n",
    "sentences = [\n",
    "    \"I love my dog\",\n",
    "    \"I love my cat\",\n",
    "    \"We love our dog!\",\n",
    "    \"Do you think our dog is amazing?\"\n",
    "]\n",
    "\n",
    "# To handle words that are not used for training, a oov_token value can be given,\n",
    "# this at least preserves the sentence length although some information is lost.\n",
    "tokenizer = Tokenizer(num_words=100, oov_token=\"<oov>\") # max words is the i/p parameter.\n",
    "tokenizer.fit_on_texts(sentences)\n",
    "word_index = tokenizer.word_index\n",
    "\n",
    "sequences = tokenizer.texts_to_sequences(sentences)\n",
    "print(word_index)\n",
    "print(sequences)\n",
    "\n",
    "test_data = [\n",
    "    \"I really love my dog\",\n",
    "    \"My dog loves its food\"\n",
    "]\n",
    "\n",
    "test_seq = tokenizer.texts_to_sequences(test_data)\n",
    "print(test_seq) # note the word index of each word in the sentence\n",
    "\n",
    "# Inorder to handle words of different lengths for training NNs., we use padding.\n",
    "padded = pad_sequences(sequences, padding=\"post\") # post - adds zeros at the end, \n",
    "# note that sentence size is made uniform refering the longest sentence provided,\n",
    "# max_len param can be used to set max sentence size.\n",
    "# But if sentence length is longer than max_len, then a truncation step can be used using 'truncating' parameter, set as 'pre' or 'post'.\n",
    "\n",
    "print(padded)"
   ]
  },
  {
   "cell_type": "markdown",
   "metadata": {},
   "source": [
    "Train model for sentiment analysis"
   ]
  },
  {
   "cell_type": "code",
   "execution_count": null,
   "metadata": {},
   "outputs": [
    {
     "name": "stdout",
     "output_type": "stream",
     "text": [
      "[  308 15115   679  3337  2298    48   382  2576 15116     6  2577  8434\n",
      "     0     0     0     0     0     0     0     0     0     0     0     0\n",
      "     0     0     0     0     0     0     0     0     0     0     0     0\n",
      "     0     0     0     0]\n",
      "(26709, 40)\n"
     ]
    }
   ],
   "source": [
    "# Data re-formating\n",
    "with open(\"sarcasm.json\", 'r') as f: # File obtained from https://storage.googleapis.com/learning-datasets/sarcasm.json\n",
    "    datastore = json.load(f)\n",
    "\n",
    "sentences = []\n",
    "labels = []\n",
    "urls = []\n",
    "for item in datastore:\n",
    "    sentences.append(item['headline'])\n",
    "    labels.append(item['is_sarcastic'])\n",
    "    urls.append(item['article_link'])\n",
    "\n",
    "# Get tokens for each word with a oov token set to deal with unknown words\n",
    "tokenizer = Tokenizer(oov_token=\"<oov>\")\n",
    "tokenizer.fit_on_texts(sentences)\n",
    "# Get word index\n",
    "word_index = tokenizer.word_index\n",
    "# Generate sequence of word index \n",
    "sequences = tokenizer.texts_to_sequences(sentences)\n",
    "# Add padding to maintain sentence length\n",
    "padded = pad_sequences(sequences, padding=\"post\")\n",
    "print(padded[0])\n",
    "print(padded.shape)\n",
    "\n",
    "# Splitting the data into training and test set as we normally will not be useful,\n",
    "# as we have to ensure the neural network sees only the training data.\n",
    "\n"
   ]
  },
  {
   "cell_type": "code",
   "execution_count": null,
   "metadata": {},
   "outputs": [],
   "source": []
  }
 ],
 "metadata": {
  "kernelspec": {
   "display_name": "Python 3",
   "language": "python",
   "name": "python3"
  },
  "language_info": {
   "codemirror_mode": {
    "name": "ipython",
    "version": 3
   },
   "file_extension": ".py",
   "mimetype": "text/x-python",
   "name": "python",
   "nbconvert_exporter": "python",
   "pygments_lexer": "ipython3",
   "version": "3.9.5"
  }
 },
 "nbformat": 4,
 "nbformat_minor": 2
}
