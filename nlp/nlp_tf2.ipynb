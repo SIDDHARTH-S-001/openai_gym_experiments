{
 "cells": [
  {
   "cell_type": "markdown",
   "metadata": {},
   "source": [
    "The playlist followed\n",
    "\n",
    "https://www.youtube.com/playlist?list=PLQY2H8rRoyvzDbLUZkbudP-MFQZwNmU4S"
   ]
  },
  {
   "cell_type": "markdown",
   "metadata": {},
   "source": [
    "Libraries"
   ]
  },
  {
   "cell_type": "code",
   "execution_count": 31,
   "metadata": {},
   "outputs": [],
   "source": [
    "from keras.preprocessing.text import Tokenizer\n",
    "from tensorflow.keras.preprocessing.sequence import pad_sequences\n",
    "import json\n",
    "import tensorflow as tf\n",
    "import numpy as np"
   ]
  },
  {
   "cell_type": "markdown",
   "metadata": {},
   "source": [
    "Tokenization"
   ]
  },
  {
   "cell_type": "code",
   "execution_count": 3,
   "metadata": {},
   "outputs": [
    {
     "name": "stdout",
     "output_type": "stream",
     "text": [
      "{'love': 1, 'i': 2, 'my': 3, 'dog': 4, 'cat': 5, 'we': 6, 'our': 7}\n"
     ]
    }
   ],
   "source": [
    "# https://www.tensorflow.org/api_docs/python/tf/keras/preprocessing/text/Tokenizer\n",
    "# https://github.com/keras-team/keras/blob/v3.3.3/keras/src/legacy/preprocessing/text.py#L81-L312\n",
    "\n",
    "sentences = [\n",
    "    \"I love my dog\",\n",
    "    \"I love my cat\",\n",
    "    \"We love our dog!\"\n",
    "]\n",
    "\n",
    "tokenizer = Tokenizer(num_words=100) # max words is the i/p parameter.\n",
    "tokenizer.fit_on_texts(sentences)\n",
    "word_index = tokenizer.word_index\n",
    "print(word_index) # prints a dictionary of word and its label\n",
    "# Its possibly prioritizing words that occur frequently"
   ]
  },
  {
   "cell_type": "markdown",
   "metadata": {},
   "source": [
    "Sequencing"
   ]
  },
  {
   "cell_type": "code",
   "execution_count": 4,
   "metadata": {},
   "outputs": [
    {
     "name": "stdout",
     "output_type": "stream",
     "text": [
      "{'<oov>': 1, 'love': 2, 'dog': 3, 'i': 4, 'my': 5, 'our': 6, 'cat': 7, 'we': 8, 'do': 9, 'you': 10, 'think': 11, 'is': 12, 'amazing': 13}\n",
      "[[4, 2, 5, 3], [4, 2, 5, 7], [8, 2, 6, 3], [9, 10, 11, 6, 3, 12, 13]]\n",
      "[[4, 1, 2, 5, 3], [5, 3, 1, 1, 1]]\n",
      "[[ 4  2  5  3  0  0  0]\n",
      " [ 4  2  5  7  0  0  0]\n",
      " [ 8  2  6  3  0  0  0]\n",
      " [ 9 10 11  6  3 12 13]]\n"
     ]
    }
   ],
   "source": [
    "# Creates sequence of integers (labels) for the text provided. \n",
    "# The labels (word_index) is obtained from tokernizer.\n",
    "\n",
    "sentences = [\n",
    "    \"I love my dog\",\n",
    "    \"I love my cat\",\n",
    "    \"We love our dog!\",\n",
    "    \"Do you think our dog is amazing?\"\n",
    "]\n",
    "\n",
    "# To handle words that are not used for training, a oov_token value can be given,\n",
    "# this at least preserves the sentence length although some information is lost.\n",
    "tokenizer = Tokenizer(num_words=100, oov_token=\"<oov>\") # max words is the i/p parameter.\n",
    "tokenizer.fit_on_texts(sentences)\n",
    "word_index = tokenizer.word_index\n",
    "\n",
    "sequences = tokenizer.texts_to_sequences(sentences)\n",
    "print(word_index)\n",
    "print(sequences)\n",
    "\n",
    "test_data = [\n",
    "    \"I really love my dog\",\n",
    "    \"My dog loves its food\"\n",
    "]\n",
    "\n",
    "test_seq = tokenizer.texts_to_sequences(test_data)\n",
    "print(test_seq) # note the word index of each word in the sentence\n",
    "\n",
    "# Inorder to handle words of different lengths for training NNs., we use padding.\n",
    "padded = pad_sequences(sequences, padding=\"post\") # post - adds zeros at the end, \n",
    "# note that sentence size is made uniform refering the longest sentence provided,\n",
    "# max_len param can be used to set max sentence size.\n",
    "# But if sentence length is longer than max_len, then a truncation step can be used using 'truncating' parameter, set as 'pre' or 'post'.\n",
    "\n",
    "print(padded)"
   ]
  },
  {
   "cell_type": "markdown",
   "metadata": {},
   "source": [
    "Train model for sentiment analysis"
   ]
  },
  {
   "cell_type": "code",
   "execution_count": null,
   "metadata": {},
   "outputs": [
    {
     "name": "stdout",
     "output_type": "stream",
     "text": [
      "[  308 15115   679  3337  2298    48   382  2576 15116     6  2577  8434\n",
      "     0     0     0     0     0     0     0     0     0     0     0     0\n",
      "     0     0     0     0     0     0     0     0     0     0     0     0\n",
      "     0     0     0     0]\n",
      "(26709, 40)\n"
     ]
    }
   ],
   "source": [
    "# Data re-formating\n",
    "with open(\"sarcasm.json\", 'r') as f: # File obtained from https://storage.googleapis.com/learning-datasets/sarcasm.json\n",
    "    datastore = json.load(f)\n",
    "\n",
    "sentences = []\n",
    "labels = []\n",
    "urls = []\n",
    "for item in datastore:\n",
    "    sentences.append(item['headline'])\n",
    "    labels.append(item['is_sarcastic'])\n",
    "    urls.append(item['article_link'])\n",
    "\n",
    "# Get tokens for each word with a oov token set to deal with unknown words\n",
    "tokenizer = Tokenizer(oov_token=\"<oov>\")\n",
    "tokenizer.fit_on_texts(sentences)\n",
    "# Get word index\n",
    "word_index = tokenizer.word_index\n",
    "# Generate sequence of word index \n",
    "sequences = tokenizer.texts_to_sequences(sentences)\n",
    "# Add padding to maintain sentence length\n",
    "padded = pad_sequences(sequences, padding=\"post\")\n",
    "print(padded[0])\n",
    "print(padded.shape)"
   ]
  },
  {
   "cell_type": "markdown",
   "metadata": {},
   "source": [
    "Train-Test Split"
   ]
  },
  {
   "cell_type": "code",
   "execution_count": 24,
   "metadata": {},
   "outputs": [],
   "source": [
    "# Splitting the data into training and test set as we normally will not be useful,\n",
    "# as we have to ensure the neural network sees only the training data.\n",
    "# Here's how we can re-write the train-test split\n",
    "\n",
    "vocab_size = 10000\n",
    "embedding_dim = 16\n",
    "max_length = 100\n",
    "trunc_type='post'\n",
    "padding_type='post'\n",
    "oov_tok = \"<OOV>\"\n",
    "training_size = 20000\n",
    "\n",
    "training_sentences = sentences[0:training_size]\n",
    "testing_sentences = sentences[training_size:]\n",
    "training_labels = labels[0:training_size]\n",
    "testing_labels = labels[training_size:]\n",
    "\n",
    "tokenizer = Tokenizer(num_words=vocab_size, oov_token=oov_tok)\n",
    "tokenizer.fit_on_texts(training_sentences) # fitting only on training sequences.\n",
    "word_index = tokenizer.word_index\n",
    "\n",
    "training_sequences = tokenizer.texts_to_sequences(training_sentences)\n",
    "training_padded = pad_sequences(training_sequences, maxlen=max_length, padding=padding_type, truncating=trunc_type)\n",
    "\n",
    "testing_sequences = tokenizer.texts_to_sequences(testing_sentences)\n",
    "testing_padded = pad_sequences(testing_sequences, maxlen=max_length, padding=padding_type, truncating=trunc_type)\n"
   ]
  },
  {
   "cell_type": "markdown",
   "metadata": {},
   "source": [
    "Embedding"
   ]
  },
  {
   "cell_type": "code",
   "execution_count": 25,
   "metadata": {},
   "outputs": [],
   "source": [
    "# Getting meaning of words used in sentences i.e their significance.\n",
    "model = tf.keras.Sequential([\n",
    "    tf.keras.layers.Embedding(vocab_size, embedding_dim, input_length=max_length),\n",
    "    tf.keras.layers.GlobalAveragePooling1D(),\n",
    "    tf.keras.layers.Dense(24, activation='relu'),\n",
    "    tf.keras.layers.Dense(1, activation='sigmoid')\n",
    "])\n",
    "\n",
    "model.compile(loss='binary_crossentropy', optimizer='adam', metrics=['accuracy'])"
   ]
  },
  {
   "cell_type": "code",
   "execution_count": 26,
   "metadata": {},
   "outputs": [
    {
     "name": "stdout",
     "output_type": "stream",
     "text": [
      "Model: \"sequential_1\"\n",
      "_________________________________________________________________\n",
      " Layer (type)                Output Shape              Param #   \n",
      "=================================================================\n",
      " embedding_1 (Embedding)     (None, 100, 16)           160000    \n",
      "                                                                 \n",
      " global_average_pooling1d_1   (None, 16)               0         \n",
      " (GlobalAveragePooling1D)                                        \n",
      "                                                                 \n",
      " dense_2 (Dense)             (None, 24)                408       \n",
      "                                                                 \n",
      " dense_3 (Dense)             (None, 1)                 25        \n",
      "                                                                 \n",
      "=================================================================\n",
      "Total params: 160,433\n",
      "Trainable params: 160,433\n",
      "Non-trainable params: 0\n",
      "_________________________________________________________________\n"
     ]
    }
   ],
   "source": [
    "model.summary()"
   ]
  },
  {
   "cell_type": "markdown",
   "metadata": {},
   "source": [
    "Training"
   ]
  },
  {
   "cell_type": "code",
   "execution_count": 32,
   "metadata": {},
   "outputs": [
    {
     "name": "stdout",
     "output_type": "stream",
     "text": [
      "Epoch 1/30\n",
      "625/625 - 1s - loss: 0.6797 - accuracy: 0.5619 - val_loss: 0.6482 - val_accuracy: 0.5906 - 1s/epoch - 2ms/step\n",
      "Epoch 2/30\n",
      "625/625 - 1s - loss: 0.4722 - accuracy: 0.8030 - val_loss: 0.3900 - val_accuracy: 0.8362 - 801ms/epoch - 1ms/step\n",
      "Epoch 3/30\n",
      "625/625 - 1s - loss: 0.3188 - accuracy: 0.8732 - val_loss: 0.3573 - val_accuracy: 0.8477 - 750ms/epoch - 1ms/step\n",
      "Epoch 4/30\n",
      "625/625 - 1s - loss: 0.2666 - accuracy: 0.8943 - val_loss: 0.3454 - val_accuracy: 0.8541 - 866ms/epoch - 1ms/step\n",
      "Epoch 5/30\n",
      "625/625 - 1s - loss: 0.2303 - accuracy: 0.9109 - val_loss: 0.3445 - val_accuracy: 0.8541 - 835ms/epoch - 1ms/step\n",
      "Epoch 6/30\n",
      "625/625 - 1s - loss: 0.2039 - accuracy: 0.9211 - val_loss: 0.3509 - val_accuracy: 0.8566 - 897ms/epoch - 1ms/step\n",
      "Epoch 7/30\n",
      "625/625 - 1s - loss: 0.1815 - accuracy: 0.9305 - val_loss: 0.3674 - val_accuracy: 0.8527 - 919ms/epoch - 1ms/step\n",
      "Epoch 8/30\n",
      "625/625 - 1s - loss: 0.1639 - accuracy: 0.9391 - val_loss: 0.3930 - val_accuracy: 0.8432 - 881ms/epoch - 1ms/step\n",
      "Epoch 9/30\n",
      "625/625 - 1s - loss: 0.1473 - accuracy: 0.9455 - val_loss: 0.3903 - val_accuracy: 0.8489 - 788ms/epoch - 1ms/step\n",
      "Epoch 10/30\n",
      "625/625 - 1s - loss: 0.1322 - accuracy: 0.9520 - val_loss: 0.4084 - val_accuracy: 0.8526 - 847ms/epoch - 1ms/step\n",
      "Epoch 11/30\n",
      "625/625 - 1s - loss: 0.1207 - accuracy: 0.9582 - val_loss: 0.4284 - val_accuracy: 0.8484 - 834ms/epoch - 1ms/step\n",
      "Epoch 12/30\n",
      "625/625 - 1s - loss: 0.1100 - accuracy: 0.9621 - val_loss: 0.4510 - val_accuracy: 0.8487 - 819ms/epoch - 1ms/step\n",
      "Epoch 13/30\n",
      "625/625 - 1s - loss: 0.1010 - accuracy: 0.9647 - val_loss: 0.4760 - val_accuracy: 0.8460 - 833ms/epoch - 1ms/step\n",
      "Epoch 14/30\n",
      "625/625 - 1s - loss: 0.0929 - accuracy: 0.9686 - val_loss: 0.5006 - val_accuracy: 0.8438 - 818ms/epoch - 1ms/step\n",
      "Epoch 15/30\n",
      "625/625 - 1s - loss: 0.0838 - accuracy: 0.9722 - val_loss: 0.5338 - val_accuracy: 0.8383 - 786ms/epoch - 1ms/step\n",
      "Epoch 16/30\n",
      "625/625 - 1s - loss: 0.0775 - accuracy: 0.9744 - val_loss: 0.5575 - val_accuracy: 0.8384 - 780ms/epoch - 1ms/step\n",
      "Epoch 17/30\n",
      "625/625 - 1s - loss: 0.0709 - accuracy: 0.9778 - val_loss: 0.5870 - val_accuracy: 0.8362 - 781ms/epoch - 1ms/step\n",
      "Epoch 18/30\n",
      "625/625 - 1s - loss: 0.0650 - accuracy: 0.9793 - val_loss: 0.6180 - val_accuracy: 0.8350 - 820ms/epoch - 1ms/step\n",
      "Epoch 19/30\n",
      "625/625 - 1s - loss: 0.0593 - accuracy: 0.9811 - val_loss: 0.6691 - val_accuracy: 0.8290 - 865ms/epoch - 1ms/step\n",
      "Epoch 20/30\n",
      "625/625 - 1s - loss: 0.0551 - accuracy: 0.9833 - val_loss: 0.6833 - val_accuracy: 0.8295 - 734ms/epoch - 1ms/step\n",
      "Epoch 21/30\n",
      "625/625 - 1s - loss: 0.0514 - accuracy: 0.9827 - val_loss: 0.7317 - val_accuracy: 0.8259 - 781ms/epoch - 1ms/step\n",
      "Epoch 22/30\n",
      "625/625 - 1s - loss: 0.0457 - accuracy: 0.9861 - val_loss: 0.7530 - val_accuracy: 0.8253 - 805ms/epoch - 1ms/step\n",
      "Epoch 23/30\n",
      "625/625 - 1s - loss: 0.0424 - accuracy: 0.9869 - val_loss: 0.8295 - val_accuracy: 0.8213 - 795ms/epoch - 1ms/step\n",
      "Epoch 24/30\n",
      "625/625 - 1s - loss: 0.0393 - accuracy: 0.9883 - val_loss: 0.8325 - val_accuracy: 0.8196 - 866ms/epoch - 1ms/step\n",
      "Epoch 25/30\n",
      "625/625 - 1s - loss: 0.0365 - accuracy: 0.9894 - val_loss: 0.8593 - val_accuracy: 0.8226 - 786ms/epoch - 1ms/step\n",
      "Epoch 26/30\n",
      "625/625 - 1s - loss: 0.0335 - accuracy: 0.9900 - val_loss: 0.8969 - val_accuracy: 0.8201 - 870ms/epoch - 1ms/step\n",
      "Epoch 27/30\n",
      "625/625 - 1s - loss: 0.0325 - accuracy: 0.9894 - val_loss: 0.9371 - val_accuracy: 0.8190 - 829ms/epoch - 1ms/step\n",
      "Epoch 28/30\n",
      "625/625 - 1s - loss: 0.0279 - accuracy: 0.9925 - val_loss: 0.9774 - val_accuracy: 0.8161 - 814ms/epoch - 1ms/step\n",
      "Epoch 29/30\n",
      "625/625 - 1s - loss: 0.0271 - accuracy: 0.9921 - val_loss: 1.0103 - val_accuracy: 0.8147 - 787ms/epoch - 1ms/step\n",
      "Epoch 30/30\n",
      "625/625 - 1s - loss: 0.0244 - accuracy: 0.9929 - val_loss: 1.0706 - val_accuracy: 0.8137 - 784ms/epoch - 1ms/step\n"
     ]
    }
   ],
   "source": [
    "num_epochs = 30\n",
    "training_labels = np.array(training_labels)  # Convert to NumPy array\n",
    "testing_labels = np.array(testing_labels)  # Convert to NumPy array\n",
    "\n",
    "\n",
    "history = model.fit(training_padded, training_labels, epochs=num_epochs, validation_data=(testing_padded, testing_labels), verbose=2)"
   ]
  },
  {
   "cell_type": "code",
   "execution_count": null,
   "metadata": {},
   "outputs": [],
   "source": []
  }
 ],
 "metadata": {
  "kernelspec": {
   "display_name": "Python 3",
   "language": "python",
   "name": "python3"
  },
  "language_info": {
   "codemirror_mode": {
    "name": "ipython",
    "version": 3
   },
   "file_extension": ".py",
   "mimetype": "text/x-python",
   "name": "python",
   "nbconvert_exporter": "python",
   "pygments_lexer": "ipython3",
   "version": "3.9.5"
  }
 },
 "nbformat": 4,
 "nbformat_minor": 2
}
