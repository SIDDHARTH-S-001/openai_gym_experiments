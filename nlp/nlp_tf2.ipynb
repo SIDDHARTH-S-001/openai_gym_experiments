{
 "cells": [
  {
   "cell_type": "markdown",
   "metadata": {},
   "source": [
    "The playlist followed\n",
    "\n",
    "https://www.youtube.com/playlist?list=PLQY2H8rRoyvzDbLUZkbudP-MFQZwNmU4S"
   ]
  },
  {
   "cell_type": "markdown",
   "metadata": {},
   "source": [
    "Libraries"
   ]
  },
  {
   "cell_type": "code",
   "execution_count": 2,
   "metadata": {},
   "outputs": [],
   "source": [
    "from keras.preprocessing.text import Tokenizer"
   ]
  },
  {
   "cell_type": "markdown",
   "metadata": {},
   "source": [
    "Tokenization"
   ]
  },
  {
   "cell_type": "code",
   "execution_count": 8,
   "metadata": {},
   "outputs": [
    {
     "name": "stdout",
     "output_type": "stream",
     "text": [
      "{'love': 1, 'i': 2, 'my': 3, 'dog': 4, 'cat': 5, 'we': 6, 'our': 7}\n"
     ]
    }
   ],
   "source": [
    "# https://www.tensorflow.org/api_docs/python/tf/keras/preprocessing/text/Tokenizer\n",
    "# https://github.com/keras-team/keras/blob/v3.3.3/keras/src/legacy/preprocessing/text.py#L81-L312\n",
    "\n",
    "sentences = [\n",
    "    \"I love my dog\",\n",
    "    \"I love my cat\",\n",
    "    \"We love our dog!\"\n",
    "]\n",
    "\n",
    "tokenizer = Tokenizer(num_words=100) # max words is the i/p parameter.\n",
    "tokenizer.fit_on_texts(sentences)\n",
    "word_index = tokenizer.word_index\n",
    "print(word_index) # prints a dictionary of word and its label\n",
    "# Its possibly prioritizing words that occur frequently"
   ]
  },
  {
   "cell_type": "markdown",
   "metadata": {},
   "source": [
    "Sequencing"
   ]
  },
  {
   "cell_type": "code",
   "execution_count": null,
   "metadata": {},
   "outputs": [
    {
     "name": "stdout",
     "output_type": "stream",
     "text": [
      "{'love': 1, 'dog': 2, 'i': 3, 'my': 4, 'our': 5, 'cat': 6, 'we': 7, 'do': 8, 'you': 9, 'think': 10, 'is': 11, 'amazing': 12}\n",
      "[[3, 1, 4, 2], [3, 1, 4, 6], [7, 1, 5, 2], [8, 9, 10, 5, 2, 11, 12]]\n"
     ]
    }
   ],
   "source": [
    "# Creates sequence of integers (labels) for the text provided.\n",
    "\n",
    "sentences = [\n",
    "    \"I love my dog\",\n",
    "    \"I love my cat\",\n",
    "    \"We love our dog!\",\n",
    "    \"Do you think our dog is amazing?\"\n",
    "]\n",
    "\n",
    "tokenizer = Tokenizer(num_words=100) # max words is the i/p parameter.\n",
    "tokenizer.fit_on_texts(sentences)\n",
    "word_index = tokenizer.word_index\n",
    "\n",
    "sequences = tokenizer.texts_to_sequences(sentences)\n",
    "print(word_index)\n",
    "print(sequences)"
   ]
  },
  {
   "cell_type": "code",
   "execution_count": null,
   "metadata": {},
   "outputs": [],
   "source": []
  }
 ],
 "metadata": {
  "kernelspec": {
   "display_name": "Python 3",
   "language": "python",
   "name": "python3"
  },
  "language_info": {
   "codemirror_mode": {
    "name": "ipython",
    "version": 3
   },
   "file_extension": ".py",
   "mimetype": "text/x-python",
   "name": "python",
   "nbconvert_exporter": "python",
   "pygments_lexer": "ipython3",
   "version": "3.9.5"
  }
 },
 "nbformat": 4,
 "nbformat_minor": 2
}
