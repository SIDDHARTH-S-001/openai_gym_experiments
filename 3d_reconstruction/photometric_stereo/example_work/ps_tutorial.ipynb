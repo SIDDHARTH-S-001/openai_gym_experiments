{
 "cells": [
  {
   "cell_type": "markdown",
   "metadata": {},
   "source": [
    "Tutorial Followed:\n",
    "\n",
    "https://snawarhussain.com/blog/computer%20vision/python/tutorial/photometric-stereo-lambertian-model/"
   ]
  },
  {
   "cell_type": "markdown",
   "metadata": {},
   "source": [
    "Loading dataset and normalizing it with the intensity values"
   ]
  },
  {
   "cell_type": "code",
   "execution_count": 2,
   "metadata": {},
   "outputs": [],
   "source": [
    "import random\n",
    "import cv2\n",
    "import glob\n",
    "import re\n",
    "import os\n",
    "import numpy as np"
   ]
  },
  {
   "cell_type": "code",
   "execution_count": 3,
   "metadata": {},
   "outputs": [],
   "source": [
    "def numerical_sort(value):\n",
    "    numbers = re.compile(r'(\\d+)')\n",
    "    parts = numbers.split(value)\n",
    "    parts[1::2] = map(int, parts[1::2])\n",
    "    return parts\n",
    "\n",
    "def imread(file_name, intensities=None, flag=-1, scale=1.0):\n",
    "    img_names = glob.glob(file_name)\n",
    "    img_list = []\n",
    "    if len(img_names) == 0:\n",
    "        print(\"[No {} images]\".format(file_name))\n",
    "        exit()\n",
    "    img_names = sorted(img_names, key=numerical_sort)\n",
    "    for i, path in enumerate(img_names):\n",
    "        img = cv2.resize(cv2.imread(path, flag), None, fx=scale, fy=scale)\n",
    "        if  np.any(intensities):\n",
    "            img = img / intensities[i]\n",
    "        img_list.append(img)\n",
    "    return img_list"
   ]
  },
  {
   "cell_type": "code",
   "execution_count": null,
   "metadata": {},
   "outputs": [],
   "source": [
    "from numpy import loadtxt\n",
    "\n",
    "dataPath = \"data/\"\n",
    "object = []\n",
    "for obj  in (os.listdir(dataPath)):\n",
    "    object.append(obj)\n",
    "\n",
    "L_direction = loadtxt(f\"data/{object[0]}/info/light_directions.txt\")\n",
    "intensities = loadtxt(f\"data/{object[0]}/info/light_intensities.txt\")\n",
    "path_img = \"data/bearPNG\"\n",
    "\n",
    "imgs = imread(path_img + f\"/{object[0]}/*\", intensities=intensities)\n",
    "mask = imread(f\"data/{object[0]}/info/mask.png\")[0]\n",
    "\n",
    "# Applying the mask to the image.\n",
    "for i, bear in enumerate(imgs):\n",
    "    imgs[i] = cv2.bitwise_and(bear, bear, mask=mask)\n",
    "    i += 1\n",
    "\n",
    "imgs = np.array(imgs)"
   ]
  },
  {
   "cell_type": "markdown",
   "metadata": {},
   "source": [
    "Photometric Stereo Function"
   ]
  },
  {
   "cell_type": "code",
   "execution_count": null,
   "metadata": {},
   "outputs": [],
   "source": [
    "def PMS(imgs, L_list):\n",
    "    \"\"\"\n",
    "    This is the main function for performing photometric stereo using three images.\n",
    "\n",
    "        Parameters\n",
    "        ----------\n",
    "        imgs: np.ndarray\n",
    "            ndarray of all the images of an object taken with different light sources\n",
    "        L_list: list\n",
    "            the list of the light sources directions S for each image. for each image the S is a vector matrix with 3  positional elements (x,y,z)\n",
    "        return:\n",
    "            returns the computed albedos and the surface normals of the object\n",
    "    \"\"\"\n",
    "\n",
    "    L = np.array(L_list) # note that light vector is passed as a list.\n",
    "    Lt = L.T # taking transpose.\n",
    "    h, w = imgs[0].shape[:2] # note that images are passed as an ndarray.\n",
    "\n",
    "    img_normal = np.zeros((h, w, 3)) \n",
    "    img_albedo = np.zeros((h, w, 3))\n",
    "    I = np.zeros((len(L_list), 3)) # Image intensity.\n",
    "\n",
    "    for x in range(w): # iterate through all rows.\n",
    "        for y in range(h): # iterate through all columns.\n",
    "            for i in range(len(imgs)): # iterate through all images.\n",
    "                I[i] = imgs[i][y][x] # getting intensities for the 3 images to construct the Intensity vecotr\n",
    "\n",
    "            tmp1 = np.linalg.inv(Lt) \n",
    "\n",
    "            N = np.dot(tmp1, I).T # based on the equation N = inv(S)*I, where S is the source matrix (includes all vectors)\n",
    "            rho = np.linalg.norm(N, axis=1) # calculate albedo, axis = 1 calculates for every row, i.e for each normal vector in the array N.\n",
    "            # specifically done for row because in N matrix, each row represents a point in 3D space. So each row needs to be treated as an independent vector.\n",
    "            # if axis is not set then norm computes euclidean norm for the whole matrix as if it was a single flattened vector, this will yield a single scalarvalue.\n",
    "            # is axis = 0, then euclidean norm will be computed column wise.\n",
    "            img_albedo[y][x] = rho\n",
    "\n",
    "            # Create a weighted projection of the normal vector into a gray-scale value. Just for representation.\n",
    "            N_gray = N[0]*0.0722 + N[1]*0.7152 + N[2]*0.2126  # luminosity formula (PS: x, y, z weighed to Gray), i.e borrowed from RGB color space but not a color space conversion here.\n",
    "            Nnorm = np.linalg.norm(N)\n",
    "            if Nnorm==0: # finding degenerate cases, invalid dark pixels with no light.\n",
    "                continue \n",
    "            img_normal[y][x] = N_gray/Nnorm # normalize the Ngray derived above.\n",
    "\n",
    "    img_normal_rgb = ((img_normal*0.5 + 0.5)*255).astype(np.uint8)  # (x y z) cooridinate to RGB coordinate converstion. Equation in the tutorial.\n",
    "    img_normal_rgb = cv2.cvtColor(img_normal_rgb, cv2.COLOR_BGR2RGB)  # converting from BGR to RGB for correct visualization. cv2 uses BGR format.\n",
    "    img_albedo = (img_albedo/np.max(img_albedo)*255).astype(np.uint8)\n",
    "    return img_normal, img_albedo, img_normal_rgb"
   ]
  },
  {
   "cell_type": "markdown",
   "metadata": {},
   "source": [
    "Sample 3 images randomly from data for constructing surface normals and albedo"
   ]
  },
  {
   "cell_type": "code",
   "execution_count": null,
   "metadata": {},
   "outputs": [],
   "source": [
    "import matplotlib.pyplot as plt\n",
    "import random\n",
    "random.seed(5)\n",
    "index = random.sample(range(0,96), 3)\n",
    "img_normal, img_albedo, img_normal_rgb = PMS(imgs[list(index),:], L_direction[list(index),:])"
   ]
  },
  {
   "cell_type": "markdown",
   "metadata": {},
   "source": [
    "Plotting"
   ]
  },
  {
   "cell_type": "code",
   "execution_count": null,
   "metadata": {},
   "outputs": [],
   "source": [
    "plt.figure(figsize=(20,5))\n",
    "plt.subplot(1,3,1)\n",
    "\n",
    "img = (imgs[1] - np.min(imgs[1])) / (np.max(imgs[1]) - np.min(imgs[1]))  #normalizing image between 0-1 for visualization\n",
    "plt.imshow(img)\n",
    "plt.title('Example image with one light source')\n",
    "plt.xticks([])\n",
    "plt.yticks([])\n",
    "#plt.plot([1,2,3,4])\n",
    "plt.subplot(1,3,2)\n",
    "#plt.plot([1,2,3,4])\n",
    "plt.imshow(img_albedo)\n",
    "plt.title('Image Albedo')\n",
    "plt.xticks([])\n",
    "plt.yticks([])\n",
    "plt.subplot(1,3,3)\n",
    "#plt.plot([1,2,3,4])\n",
    "plt.imshow(img_normal_rgb)\n",
    "plt.title('Surface Normals')\n",
    "plt.xticks([])\n",
    "plt.yticks([])\n",
    "plt.show()"
   ]
  }
 ],
 "metadata": {
  "kernelspec": {
   "display_name": "Python 3",
   "language": "python",
   "name": "python3"
  },
  "language_info": {
   "codemirror_mode": {
    "name": "ipython",
    "version": 3
   },
   "file_extension": ".py",
   "mimetype": "text/x-python",
   "name": "python",
   "nbconvert_exporter": "python",
   "pygments_lexer": "ipython3",
   "version": "3.9.5"
  }
 },
 "nbformat": 4,
 "nbformat_minor": 2
}
