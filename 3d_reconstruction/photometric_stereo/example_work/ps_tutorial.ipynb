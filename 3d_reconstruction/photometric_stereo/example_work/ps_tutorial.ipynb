{
 "cells": [
  {
   "cell_type": "markdown",
   "metadata": {},
   "source": [
    "Tutorial Followed:\n",
    "\n",
    "https://snawarhussain.com/blog/computer%20vision/python/tutorial/photometric-stereo-lambertian-model/"
   ]
  },
  {
   "cell_type": "markdown",
   "metadata": {},
   "source": [
    "Loading dataset and normalizing it with the intensity values"
   ]
  },
  {
   "cell_type": "code",
   "execution_count": 1,
   "metadata": {},
   "outputs": [],
   "source": [
    "import random\n",
    "import cv2\n",
    "import glob\n",
    "import os\n",
    "import numpy as np\n",
    "import re\n",
    "import yaml\n",
    "import matplotlib.pyplot as plt"
   ]
  },
  {
   "cell_type": "markdown",
   "metadata": {},
   "source": [
    "Helper Functions"
   ]
  },
  {
   "cell_type": "code",
   "execution_count": 19,
   "metadata": {},
   "outputs": [],
   "source": [
    "def numerical_sort(value):\n",
    "    \"\"\"\n",
    "    Helper function to sort files numerically by their filenames.\n",
    "    \"\"\"\n",
    "    numbers = re.compile(r'(\\d+)')\n",
    "    parts = numbers.split(value)\n",
    "    parts[1::2] = map(int, parts[1::2])\n",
    "    return parts\n",
    "\n",
    "def load_light_matrix(yaml_file):\n",
    "    \"\"\"\n",
    "    Loads the LightMatrix.yml file using OpenCV's FileStorage.\n",
    "    \"\"\"\n",
    "    fs = cv2.FileStorage(yaml_file, cv2.FILE_STORAGE_READ)\n",
    "    light_matrix = fs.getNode(\"Lights\").mat()\n",
    "    fs.release()\n",
    "    return light_matrix"
   ]
  },
  {
   "cell_type": "markdown",
   "metadata": {},
   "source": [
    "Photometric Stereo Function"
   ]
  },
  {
   "cell_type": "code",
   "execution_count": 20,
   "metadata": {},
   "outputs": [],
   "source": [
    "def PMS(imgs, L_list):\n",
    "    \"\"\"\n",
    "    This is the main function for performing photometric stereo using three images.\n",
    "\n",
    "        Parameters\n",
    "        ----------\n",
    "        imgs: np.ndarray\n",
    "            ndarray of all the images of an object taken with different light sources\n",
    "        L_list: list\n",
    "            the list of the light sources directions S for each image. for each image the S is a vector matrix with 3  positional elements (x,y,z)\n",
    "        return:\n",
    "            returns the computed albedos and the surface normals of the object\n",
    "    \"\"\"\n",
    "\n",
    "    L = np.array(L_list) # note that light vector is passed as a list.\n",
    "    Lt = L.T # taking transpose.\n",
    "    h, w = imgs[0].shape[:2] # note that images are passed as an ndarray.\n",
    "\n",
    "    img_normal = np.zeros((h, w, 3)) \n",
    "    img_albedo = np.zeros((h, w, 3))\n",
    "    I = np.zeros((len(L_list), 3)) # Image intensity.\n",
    "\n",
    "    for x in range(w): # iterate through all rows.\n",
    "        for y in range(h): # iterate through all columns.\n",
    "            for i in range(len(imgs)): # iterate through all images.\n",
    "                I[i] = imgs[i][y][x] # getting intensities for the 3 images to construct the Intensity vecotr\n",
    "\n",
    "            tmp1 = np.linalg.inv(Lt @ L) @ Lt\n",
    "\n",
    "            N = np.dot(tmp1, I).T # based on the equation N = inv(S)*I, where S is the source matrix (includes all vectors)\n",
    "            rho = np.linalg.norm(N, axis=1) # calculate albedo, axis = 1 calculates for every row, i.e for each normal vector in the array N.\n",
    "            # specifically done for row because in N matrix, each row represents a point in 3D space. So each row needs to be treated as an independent vector.\n",
    "            # if axis is not set then norm computes euclidean norm for the whole matrix as if it was a single flattened vector, this will yield a single scalarvalue.\n",
    "            # is axis = 0, then euclidean norm will be computed column wise.\n",
    "            img_albedo[y][x] = rho\n",
    "\n",
    "            # Create a weighted projection of the normal vector into a gray-scale value. Just for representation.\n",
    "            N_gray = N[0]*0.0722 + N[1]*0.7152 + N[2]*0.2126  # luminosity formula (PS: x, y, z weighed to Gray), i.e borrowed from RGB color space but not a color space conversion here.\n",
    "            Nnorm = np.linalg.norm(N)\n",
    "            if Nnorm==0: # finding degenerate cases, invalid dark pixels with no light.\n",
    "                continue \n",
    "            img_normal[y][x] = N_gray/Nnorm # normalize the Ngray derived above.\n",
    "\n",
    "    img_normal_rgb = ((img_normal*0.5 + 0.5)*255).astype(np.uint8)  # (x y z) cooridinate to RGB coordinate converstion. Equation in the tutorial.\n",
    "    img_normal_rgb = cv2.cvtColor(img_normal_rgb, cv2.COLOR_BGR2RGB)  # converting from BGR to RGB for correct visualization. cv2 uses BGR format.\n",
    "    img_albedo = (img_albedo/np.max(img_albedo)*255).astype(np.uint8)\n",
    "    return img_normal, img_albedo, img_normal_rgb"
   ]
  },
  {
   "cell_type": "markdown",
   "metadata": {},
   "source": [
    "Sample 3 images randomly from data for constructing surface normals and albedo"
   ]
  },
  {
   "cell_type": "code",
   "execution_count": 25,
   "metadata": {},
   "outputs": [],
   "source": [
    "# Dataset processing\n",
    "root_folder = \"D:/Onedrive/experiments/experiments/3d_reconstruction/photometric_stereo/example_work/samples/shrek/shrek\"  # Replace with the actual path to the 'samples' folder\n",
    "object_folders = [os.path.join(root_folder, obj) for obj in os.listdir(root_folder) if os.path.isdir(os.path.join(root_folder, obj))]\n",
    "\n",
    "# Initialize storage for visualization\n",
    "images, img_albedo, img_normal_rgb = None, None, None\n",
    "\n",
    "for obj_folder in object_folders:\n",
    "    print(f\"Processing: {obj_folder}\")\n",
    "    \n",
    "    # Load light directions from YAML\n",
    "    yaml_path = os.path.join(obj_folder, \"LightMatrix.yml\")\n",
    "    if not os.path.exists(yaml_path):\n",
    "        print(f\"LightMatrix.yaml not found in {obj_folder}\")\n",
    "        continue\n",
    "    light_directions = load_light_matrix(yaml_path)\n",
    "\n",
    "    # Load images, excluding 'mask.bmp' and 'all.bmp'\n",
    "    img_names = [f for f in glob.glob(os.path.join(obj_folder, \"*.bmp\")) if not (\"mask.bmp\" in f or \"all.bmp\" in f)]\n",
    "    img_names = sorted(img_names, key=numerical_sort)[:3]  # Pick at most 3 images\n",
    "\n",
    "    if len(img_names) < 3:\n",
    "        print(f\"Not enough valid images found in {obj_folder}. Skipping.\")\n",
    "        continue\n",
    "\n",
    "    images = [cv2.imread(img, cv2.IMREAD_GRAYSCALE) for img in img_names]\n",
    "    images = np.array(images)\n",
    "\n",
    "    # Apply mask to images\n",
    "    mask_path = os.path.join(obj_folder, \"mask.bmp\")\n",
    "    mask = cv2.imread(mask_path, cv2.IMREAD_GRAYSCALE)\n",
    "    if mask is None:\n",
    "        print(f\"Mask file not found in {obj_folder}\")\n",
    "        continue\n",
    "\n",
    "    for i in range(len(images)):\n",
    "        images[i] = cv2.bitwise_and(images[i], images[i], mask=mask)\n",
    "\n",
    "    # Run Photometric Stereo\n",
    "    img_normal, img_albedo, img_normal_rgb = PMS(images, light_directions)"
   ]
  },
  {
   "cell_type": "markdown",
   "metadata": {},
   "source": [
    "Plotting"
   ]
  },
  {
   "cell_type": "code",
   "execution_count": 26,
   "metadata": {},
   "outputs": [
    {
     "name": "stdout",
     "output_type": "stream",
     "text": [
      "No valid data to display.\n"
     ]
    }
   ],
   "source": [
    "# Display results\n",
    "if images is not None and img_albedo is not None and img_normal_rgb is not None:\n",
    "    plt.figure(figsize=(20, 5))\n",
    "    plt.subplot(1, 3, 1)\n",
    "    plt.imshow(images[0], cmap='gray')\n",
    "    plt.title(\"Example Image with One Light Source\")\n",
    "    plt.xticks([])\n",
    "    plt.yticks([])\n",
    "\n",
    "    plt.subplot(1, 3, 2)\n",
    "    plt.imshow(img_albedo, cmap='gray')\n",
    "    plt.title(\"Albedo Map\")\n",
    "    plt.xticks([])\n",
    "    plt.yticks([])\n",
    "\n",
    "    plt.subplot(1, 3, 3)\n",
    "    plt.imshow(img_normal_rgb)\n",
    "    plt.title(\"Surface Normals\")\n",
    "    plt.xticks([])\n",
    "    plt.yticks([])\n",
    "\n",
    "    plt.show()\n",
    "else:\n",
    "    print(\"No valid data to display.\")"
   ]
  },
  {
   "cell_type": "code",
   "execution_count": null,
   "metadata": {},
   "outputs": [],
   "source": []
  }
 ],
 "metadata": {
  "kernelspec": {
   "display_name": "Python 3",
   "language": "python",
   "name": "python3"
  },
  "language_info": {
   "codemirror_mode": {
    "name": "ipython",
    "version": 3
   },
   "file_extension": ".py",
   "mimetype": "text/x-python",
   "name": "python",
   "nbconvert_exporter": "python",
   "pygments_lexer": "ipython3",
   "version": "3.9.5"
  }
 },
 "nbformat": 4,
 "nbformat_minor": 2
}
