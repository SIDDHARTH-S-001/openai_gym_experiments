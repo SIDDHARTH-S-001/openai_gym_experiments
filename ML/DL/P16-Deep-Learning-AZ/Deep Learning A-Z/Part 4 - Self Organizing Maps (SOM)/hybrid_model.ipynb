{
 "cells": [
  {
   "cell_type": "markdown",
   "metadata": {},
   "source": [
    "Goal: Finding the probability a customer to be fraud\n",
    "\n",
    "Method: Hybrid of supervised and unsupervisied learning\n",
    "\n",
    "Expected: Ranking of probabilities of each customer cheated"
   ]
  },
  {
   "cell_type": "code",
   "execution_count": null,
   "metadata": {},
   "outputs": [],
   "source": []
  }
 ],
 "metadata": {
  "language_info": {
   "name": "python"
  }
 },
 "nbformat": 4,
 "nbformat_minor": 2
}
