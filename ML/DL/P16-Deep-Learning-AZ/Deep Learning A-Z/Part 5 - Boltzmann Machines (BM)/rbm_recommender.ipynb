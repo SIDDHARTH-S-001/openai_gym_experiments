{
 "cells": [
  {
   "cell_type": "code",
   "execution_count": 16,
   "metadata": {},
   "outputs": [],
   "source": [
    "import numpy as np\n",
    "import pandas as pd\n",
    "import torch\n",
    "import torch.nn as nn\n",
    "import torch.nn.parallel\n",
    "import torch.optim as optim\n",
    "import torch.utils.data\n",
    "from torch.autograd import Variable"
   ]
  },
  {
   "cell_type": "markdown",
   "metadata": {},
   "source": [
    "Data Preprocessing"
   ]
  },
  {
   "cell_type": "code",
   "execution_count": 17,
   "metadata": {},
   "outputs": [],
   "source": [
    "# movies - index, movie name, catagory\n",
    "movies = pd.read_csv('ml-1m/movies.dat', sep='::', header=None, engine='python', encoding='latin-1')\n",
    "# users - index, gender, age, financial info, zip code\n",
    "users = pd.read_csv('ml-1m/users.dat', sep='::', header=None, engine='python', encoding='latin-1')\n",
    "# ratings - index, user id, movie id, rating (1-5), timestaps (not required)\n",
    "ratings = pd.read_csv('ml-1m/ratings.dat', sep='::', header=None, engine='python', encoding='latin-1')\n",
    "# training set - index, user index, movie index, rating (1-5), time stamp (not required)\n",
    "training_set = pd.read_csv('ml-100k/u1.base', delimiter='\\t')\n",
    "training_set = np.array(training_set, dtype='int')\n",
    "test_set = pd.read_csv('ml-100k/u1.test', delimiter='\\t')\n",
    "test_set = np.array(test_set, dtype='int')\n",
    "\n",
    "# Getting the number of users and movies\n",
    "# taking max of max as the value can be in either train / test set\n",
    "nb_users = int(max(max(training_set[:, 0]), max(test_set[:, 0])))\n",
    "nb_movies = int(max(max(training_set[:, 1]), max(test_set[:, 1])))\n",
    "\n",
    "# converting the data into an array with users in lines and movies in columns\n",
    "def convert(data):\n",
    "    new_data = []\n",
    "    for id_users in range(1, nb_users + 1):\n",
    "        id_movies = data[:, 1][data[:, 0] == id_users]\n",
    "        id_ratings = data[:, 2][data[:, 0] == id_users]\n",
    "        ratings = np.zeros(nb_movies) # this also adds a 0 for all the movies not rated by the user\n",
    "        ratings[id_movies - 1] = id_ratings \n",
    "        new_data.append(list(ratings)) # list of lists\n",
    "    return new_data\n",
    "\n",
    "training_set = convert(training_set)\n",
    "test_set = convert(test_set)\n",
    "\n",
    "# converting the data into torch tensors\n",
    "# floatTensor class expects a list of lists\n",
    "training_set = torch.FloatTensor(training_set)\n",
    "test_set = torch.FloatTensor(test_set)\n",
    "\n",
    "# Converting ratings into binary ratings, 1 (liked) & 0 (Not liked)\n",
    "training_set[training_set == 0] = -1 # these were the movies not rated by the user.\n",
    "training_set[training_set == 1] = 0\n",
    "training_set[training_set == 2] = 0 # torch doesn't accept 'or' operator, hence they have been written separately\n",
    "training_set[training_set >= 3] = 1\n",
    "\n",
    "test_set[test_set == 0] = -1 # these were the movies not rated by the user.\n",
    "test_set[test_set == 1] = 0\n",
    "test_set[test_set == 2] = 0 # torch doesn't accept 'or' operator, hence they have been written separately\n",
    "test_set[test_set >= 3] = 1"
   ]
  },
  {
   "cell_type": "markdown",
   "metadata": {},
   "source": [
    "RBM Implementation"
   ]
  },
  {
   "cell_type": "code",
   "execution_count": null,
   "metadata": {},
   "outputs": [],
   "source": [
    "# RBM is a probabilistic graphical model\n",
    "# creatingg architecture of Neural Network \n",
    "class RBM():\n",
    "    def __init__(self, nv, nh):\n",
    "        self.W = torch.randn(nh, nv) # weights are initialized as torch tensor with values based on normal distribution.\n",
    "        self.a = torch.randn(1, nh) # 1 - corresponds to the batch, nh - for bias for hidden nodes\n",
    "        self.b = torch.randn(1, nv) # bias for visible nodes\n",
    "\n",
    "    def sample_h(self, x): # x - visble node\n",
    "        wx = torch.mm(x, self.W.t()) # function torch.mm multiplies two torch tensors\n",
    "        activation = wx + self.a.expand_as(wx)\n",
    "        # probability a hidden node is activated given the value of a visible node\n",
    "        p_h_given_v = torch.sigmoid(activation)\n",
    "        return p_h_given_v, torch.bernoulli(p_h_given_v) # returns sampling of the hidden node as well\n",
    "    \n",
    "    def sample_v(self, y): # y - hidden node\n",
    "        wy = torch.mm(y, self.W) # function torch.mm multiplies two torch tensors\n",
    "        activation = wy + self.b.expand_as(wy)\n",
    "        # probability a visible node is activated given the value of a hidden node\n",
    "        p_v_given_h = torch.sigmoid(activation)\n",
    "        return p_v_given_h, torch.bernoulli(p_v_given_h) # returns sampling of the visible node as well\n",
    "    \n",
    "    # Τhis function gives error\n",
    "    # def train(self, v0, vk, ph0, phk): # contrastive diveregence with gibbs sampling\n",
    "    #     self.W += torch.mm(v0.t(), ph0) - torch.mm(vk.t(), phk)\n",
    "    #     self.b += torch.sum((v0 - vk), 0) # that 0 is brought in to keep self.b as a 2D tensor\n",
    "    #     self.a += torch.sum((ph0 - phk), 0)\n",
    "\n",
    "    # This function is the corrected one, transpose is applied to ph0 and phk instead of v0 and vk\n",
    "    def train(self, v0, vk, ph0, phk): # contrastive divergence with Gibbs sampling\n",
    "        # Correcting the dimension mismatch by transposing hidden units\n",
    "        self.W += torch.mm(ph0.t(), v0) - torch.mm(phk.t(), vk)\n",
    "        self.b += torch.sum((v0 - vk), 0)  # Updating biases for visible units\n",
    "        self.a += torch.sum((ph0 - phk), 0)  # Updating biases for hidden units\n"
   ]
  },
  {
   "cell_type": "code",
   "execution_count": 23,
   "metadata": {},
   "outputs": [],
   "source": [
    "nv = len(training_set[0])\n",
    "nh = 100 # aimed to detect 100 features\n",
    "batch_size = 100 \n",
    "rbm = RBM(nv, nh)"
   ]
  },
  {
   "cell_type": "markdown",
   "metadata": {},
   "source": [
    "Training the RBM"
   ]
  },
  {
   "cell_type": "code",
   "execution_count": 24,
   "metadata": {},
   "outputs": [
    {
     "name": "stdout",
     "output_type": "stream",
     "text": [
      "Epoch: 1 loss:  tensor(0.2739)\n",
      "Epoch: 2 loss:  tensor(0.1520)\n",
      "Epoch: 3 loss:  tensor(0.1492)\n",
      "Epoch: 4 loss:  tensor(0.1546)\n",
      "Epoch: 5 loss:  tensor(0.1485)\n",
      "Epoch: 6 loss:  tensor(0.1466)\n",
      "Epoch: 7 loss:  tensor(0.1507)\n",
      "Epoch: 8 loss:  tensor(0.1489)\n",
      "Epoch: 9 loss:  tensor(0.1475)\n",
      "Epoch: 10 loss:  tensor(0.1483)\n"
     ]
    }
   ],
   "source": [
    "nb_epoch = 10\n",
    "for epoch in range(1, nb_epoch + 1):\n",
    "    train_loss = 0\n",
    "    s = 0.\n",
    "    for id_user in range(0, nb_users - batch_size, batch_size):\n",
    "        vk = training_set[id_user: id_user + batch_size]\n",
    "        v0 = training_set[id_user: id_user + batch_size]\n",
    "        ph0, _ = rbm.sample_h(v0)\n",
    "\n",
    "        for k in range(10):\n",
    "            _, hk = rbm.sample_h(vk)\n",
    "            _, vk = rbm.sample_v(hk)\n",
    "            vk[v0<0] = v0[v0<0] # ensuring the model is not trained on data that doesn't exist, these were given -1 value earlier\n",
    "        phk, _ = rbm.sample_h(vk)\n",
    "        rbm.train(v0, vk, ph0, phk)\n",
    "        train_loss += torch.mean(torch.abs(v0[v0>0] - vk[v0>0])) # difference between actual rating and prediction (for ratings that exist)\n",
    "        s += 1\n",
    "    print('Epoch: '+str(epoch)+' loss: ', str(train_loss/s)) # loss is normalized while printing\n",
    "        \n"
   ]
  },
  {
   "cell_type": "markdown",
   "metadata": {},
   "source": [
    "Testing the RBM"
   ]
  },
  {
   "cell_type": "code",
   "execution_count": 36,
   "metadata": {},
   "outputs": [
    {
     "name": "stdout",
     "output_type": "stream",
     "text": [
      "test loss:  tensor(0.2409)\n"
     ]
    }
   ],
   "source": [
    "test_loss = 0\n",
    "s = 0.\n",
    "for id_user in range(nb_users):\n",
    "    v = training_set[id_user: id_user + 1]\n",
    "    vt = test_set[id_user: id_user + 1]\n",
    "    if len(vt[vt >= 0]) > 0:\n",
    "        _, h = rbm.sample_h(v)\n",
    "        _, v = rbm.sample_v(h)\n",
    "        # Only compare entries where vt >= 0\n",
    "        mask = vt >= 0  # Create a mask for valid entries\n",
    "        test_loss += torch.mean(torch.abs(vt[mask] - v[mask]))  # Use the mask for comparison\n",
    "        s += 1\n",
    "print('test loss: ', str(test_loss / s))  # Loss is normalized while printing\n"
   ]
  },
  {
   "cell_type": "code",
   "execution_count": null,
   "metadata": {},
   "outputs": [],
   "source": []
  }
 ],
 "metadata": {
  "kernelspec": {
   "display_name": "Python 3",
   "language": "python",
   "name": "python3"
  },
  "language_info": {
   "codemirror_mode": {
    "name": "ipython",
    "version": 3
   },
   "file_extension": ".py",
   "mimetype": "text/x-python",
   "name": "python",
   "nbconvert_exporter": "python",
   "pygments_lexer": "ipython3",
   "version": "3.9.5"
  }
 },
 "nbformat": 4,
 "nbformat_minor": 2
}
