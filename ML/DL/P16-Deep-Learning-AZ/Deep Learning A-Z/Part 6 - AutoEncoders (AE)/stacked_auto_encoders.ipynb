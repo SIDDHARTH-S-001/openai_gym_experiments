{
 "cells": [
  {
   "cell_type": "code",
   "execution_count": 2,
   "metadata": {},
   "outputs": [],
   "source": [
    "import numpy as np\n",
    "import pandas as pd\n",
    "import torch\n",
    "import torch.nn as nn\n",
    "import torch.nn.parallel\n",
    "import torch.optim as optim\n",
    "import torch.utils.data\n",
    "from torch.autograd import Variable"
   ]
  },
  {
   "cell_type": "code",
   "execution_count": 3,
   "metadata": {},
   "outputs": [],
   "source": [
    "# movies - index, movie name, catagory\n",
    "movies = pd.read_csv('ml-1m/movies.dat', sep='::', header=None, engine='python', encoding='latin-1')\n",
    "# users - index, gender, age, financial info, zip code\n",
    "users = pd.read_csv('ml-1m/users.dat', sep='::', header=None, engine='python', encoding='latin-1')\n",
    "# ratings - index, user id, movie id, rating (1-5), timestaps (not required)\n",
    "ratings = pd.read_csv('ml-1m/ratings.dat', sep='::', header=None, engine='python', encoding='latin-1')\n",
    "# training set - index, user index, movie index, rating (1-5), time stamp (not required)\n",
    "training_set = pd.read_csv('ml-100k/u1.base', delimiter='\\t')\n",
    "training_set = np.array(training_set, dtype='int')\n",
    "test_set = pd.read_csv('ml-100k/u1.test', delimiter='\\t')\n",
    "test_set = np.array(test_set, dtype='int')\n",
    "\n",
    "# Getting the number of users and movies\n",
    "# taking max of max as the value can be in either train / test set\n",
    "nb_users = int(max(max(training_set[:, 0]), max(test_set[:, 0])))\n",
    "nb_movies = int(max(max(training_set[:, 1]), max(test_set[:, 1])))\n",
    "\n",
    "# converting the data into an array with users in lines and movies in columns\n",
    "def convert(data):\n",
    "    new_data = []\n",
    "    for id_users in range(1, nb_users + 1):\n",
    "        id_movies = data[:, 1][data[:, 0] == id_users]\n",
    "        id_ratings = data[:, 2][data[:, 0] == id_users]\n",
    "        ratings = np.zeros(nb_movies) # this also adds a 0 for all the movies not rated by the user\n",
    "        ratings[id_movies - 1] = id_ratings \n",
    "        new_data.append(list(ratings)) # list of lists\n",
    "    return new_data\n",
    "\n",
    "training_set = convert(training_set)\n",
    "test_set = convert(test_set)\n",
    "\n",
    "# converting the data into torch tensors\n",
    "# floatTensor class expects a list of lists\n",
    "training_set = torch.FloatTensor(training_set)\n",
    "test_set = torch.FloatTensor(test_set)\n",
    "\n",
    "# # Converting ratings into binary ratings, 1 (liked) & 0 (Not liked)\n",
    "# training_set[training_set == 0] = -1 # these were the movies not rated by the user.\n",
    "# training_set[training_set == 1] = 0\n",
    "# training_set[training_set == 2] = 0 # torch doesn't accept 'or' operator, hence they have been written separately\n",
    "# training_set[training_set >= 3] = 1\n",
    "\n",
    "# test_set[test_set == 0] = -1 # these were the movies not rated by the user.\n",
    "# test_set[test_set == 1] = 0\n",
    "# test_set[test_set == 2] = 0 # torch doesn't accept 'or' operator, hence they have been written separately\n",
    "# test_set[test_set >= 3] = 1"
   ]
  },
  {
   "cell_type": "code",
   "execution_count": 8,
   "metadata": {},
   "outputs": [],
   "source": [
    "class SAE(nn.Module):\n",
    "    def __init__(self, ): # This function creates the architecture.\n",
    "        super(SAE, self).__init__()\n",
    "        self.fc1 = nn.Linear(nb_movies, 20) # 20 nodes in the 1st hidden layers.\n",
    "        self.fc2 = nn.Linear(20, 10) # 10 neurons in the 2nd hidden layer.\n",
    "        # next layer will start reconstructing, hence the architecture will be made symmetric.\n",
    "        self.fc3 = nn.Linear(10, 20) #30 neurons in the 3rd hidden layer.\n",
    "        self.fc4 = nn.Linear(20, nb_movies) # no of neurons in O/P layer must be same as that of I/P layer.\n",
    "        self.activation = nn.Sigmoid()\n",
    "\n",
    "    # This function performs the action (forward propagation).\n",
    "    def forward(self, x): # x - input vector.\n",
    "        # 1st encoding (I/P vector is compressed into a shorter version).\n",
    "        x = self.activation(self.fc1(x))\n",
    "        x = self.activation(self.fc2(x))\n",
    "        x = self.activation(self.fc3(x))\n",
    "        x = self.fc4(x) \n",
    "        return x"
   ]
  },
  {
   "cell_type": "code",
   "execution_count": 17,
   "metadata": {},
   "outputs": [],
   "source": [
    "sae = SAE()\n",
    "criterion = nn.MSELoss()\n",
    "optimizer = optim.RMSprop(sae.parameters(), lr=0.01, weight_decay=0.5)\n",
    "nb_epoch = 20"
   ]
  },
  {
   "cell_type": "code",
   "execution_count": 18,
   "metadata": {},
   "outputs": [
    {
     "name": "stdout",
     "output_type": "stream",
     "text": [
      "Epoch: 1 loss: 1.7717441699028045\n",
      "Epoch: 2 loss: 1.0966161820831701\n",
      "Epoch: 3 loss: 1.0533194063545395\n",
      "Epoch: 4 loss: 1.038493246080098\n",
      "Epoch: 5 loss: 1.0307201224783613\n",
      "Epoch: 6 loss: 1.02659210412905\n",
      "Epoch: 7 loss: 1.0236172656512\n",
      "Epoch: 8 loss: 1.0217308318431106\n",
      "Epoch: 9 loss: 1.020608061446971\n",
      "Epoch: 10 loss: 1.019314434155422\n",
      "Epoch: 11 loss: 1.018610481179131\n",
      "Epoch: 12 loss: 1.0185385382748682\n",
      "Epoch: 13 loss: 1.0176785763154506\n",
      "Epoch: 14 loss: 1.0176363222112716\n",
      "Epoch: 15 loss: 1.0169759076208433\n",
      "Epoch: 16 loss: 1.0169206086162124\n",
      "Epoch: 17 loss: 1.0165547265055423\n",
      "Epoch: 18 loss: 1.0163373613378415\n",
      "Epoch: 19 loss: 1.016164696403952\n",
      "Epoch: 20 loss: 1.016210595463455\n"
     ]
    }
   ],
   "source": [
    "for epoch in range(1, nb_epoch + 1):\n",
    "    train_loss = 0  # loss is 0 at initial iteration.\n",
    "    s = 0.  # initializing s (rmse) as a float.\n",
    "    # this loop will loop over all observations in each epoch.\n",
    "    for id_users in range(nb_users):\n",
    "        input = Variable(training_set[id_users]).unsqueeze(0)  # creating a batch of one input vector.\n",
    "        target = input.clone()  # right now the target and input are the same, will be modified later.\n",
    "        # Next step will exclude all users who haven't rated any movie.\n",
    "        if torch.sum(target.data > 0) > 0:\n",
    "            output = sae(input)\n",
    "            target.requires_grad = False  # don't compute gradient w.r.t the target (saves computation).\n",
    "            output[target == 0] = 0  # these values will not be considered for error.\n",
    "            loss = criterion(output, input)\n",
    "            mean_corrector = nb_movies / float(torch.sum(target.data > 0) + 1e-10)\n",
    "            loss.backward()  # decides the direction of weight update.\n",
    "            train_loss += np.sqrt(loss.item() * mean_corrector)  # Use `.item()` to extract scalar.\n",
    "            s += 1.\n",
    "            optimizer.step()  # decides the intensity of weight updates.\n",
    "    print('Epoch: ' + str(epoch) + ' loss: ' + str(train_loss / s))\n"
   ]
  },
  {
   "cell_type": "code",
   "execution_count": 20,
   "metadata": {},
   "outputs": [
    {
     "name": "stdout",
     "output_type": "stream",
     "text": [
      "Test loss: 1.0229217496252785\n"
     ]
    }
   ],
   "source": [
    "# Testing the SAE.\n",
    "test_loss = 0  # Initialize test loss.\n",
    "s = 0.  # Initialize the count for normalization.\n",
    "for id_users in range(nb_users):\n",
    "    input = Variable(training_set[id_users]).unsqueeze(0)  # Reshape input to [1, 1682].\n",
    "    target = Variable(test_set[id_users]).unsqueeze(0)  # Reshape target to [1, 1682].\n",
    "    if torch.sum(target.data > 0) > 0:\n",
    "        output = sae(input)\n",
    "        target.requires_grad = False  # Prevent gradient computation for target.\n",
    "        output[target == 0] = 0  # Mask values where target is 0.\n",
    "        loss = criterion(output, target)  # Compute loss against the target.\n",
    "        mean_corrector = nb_movies / float(torch.sum(target.data > 0) + 1e-10)  # Correct loss for rated movies.\n",
    "        test_loss += np.sqrt(loss.item() * mean_corrector)  # Use `.item()` to extract scalar loss.\n",
    "        s += 1.  # Increment count for averaging.\n",
    "print('Test loss: ' + str(test_loss / s))  # Print normalized test loss.\n"
   ]
  },
  {
   "cell_type": "code",
   "execution_count": null,
   "metadata": {},
   "outputs": [],
   "source": []
  }
 ],
 "metadata": {
  "kernelspec": {
   "display_name": "Python 3",
   "language": "python",
   "name": "python3"
  },
  "language_info": {
   "codemirror_mode": {
    "name": "ipython",
    "version": 3
   },
   "file_extension": ".py",
   "mimetype": "text/x-python",
   "name": "python",
   "nbconvert_exporter": "python",
   "pygments_lexer": "ipython3",
   "version": "3.9.5"
  }
 },
 "nbformat": 4,
 "nbformat_minor": 2
}
