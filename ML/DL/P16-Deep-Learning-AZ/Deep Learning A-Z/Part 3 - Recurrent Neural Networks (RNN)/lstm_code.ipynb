{
 "cells": [
  {
   "cell_type": "markdown",
   "metadata": {},
   "source": [
    "Libraries"
   ]
  },
  {
   "cell_type": "code",
   "execution_count": 14,
   "metadata": {},
   "outputs": [],
   "source": [
    "import numpy as np\n",
    "import matplotlib.pyplot as plt\n",
    "import pandas as pd\n",
    "\n",
    "from sklearn.preprocessing import MinMaxScaler\n",
    "\n",
    "from keras.models import Sequential\n",
    "from keras.layers import Dense, LSTM, Dropout"
   ]
  },
  {
   "cell_type": "markdown",
   "metadata": {},
   "source": [
    "Data Preprocessing"
   ]
  },
  {
   "cell_type": "code",
   "execution_count": 12,
   "metadata": {},
   "outputs": [],
   "source": [
    "# Import training set\n",
    "train_path = 'D:/Onedrive/experiments/experiments/ML\\DL/P16-Deep-Learning-AZ/Deep Learning A-Z/Part 3 - Recurrent Neural Networks (RNN)/Google_Stock_Price_Train.csv'\n",
    "dataset_train = pd.read_csv(train_path)\n",
    "training_set = dataset_train.iloc[:, 1:2].values # only the 'open' column\n",
    "\n",
    "# Feature Scaling\n",
    "# its recommended to use normalization when sigmoid is used as activation function\n",
    "sc = MinMaxScaler(feature_range=(0, 1))\n",
    "training_set_scaled = sc.fit_transform(training_set)\n",
    "\n",
    "# Creating a data structure with 60 time steps and 1 output\n",
    "# basically the last 60 time steps of data will be used to predict the next output\n",
    "x_train = [] # last 60 stock prices\n",
    "y_train = [] # next output\n",
    "# also means we have to start predicting from 60th day onwards and not from day 1\n",
    "for i in range(60, 1258):\n",
    "    x_train.append(training_set_scaled[i - 60: i, 0])\n",
    "    y_train.append(training_set_scaled[i, 0])\n",
    "\n",
    "x_train, y_train = np.array(x_train), np.array(y_train)\n",
    "\n",
    "# Reshaping the data to include more params later (if required)\n",
    "x_train = np.reshape(x_train, (x_train.shape[0], x_train.shape[1], 1))\n"
   ]
  },
  {
   "cell_type": "markdown",
   "metadata": {},
   "source": [
    "Building the RNN"
   ]
  },
  {
   "cell_type": "code",
   "execution_count": 16,
   "metadata": {},
   "outputs": [],
   "source": [
    "# Building a stacked LSTM with dropouts to prevent overfitting\n",
    "# Initialize the RNN\n",
    "regressor = Sequential()\n",
    "# Adding 1st LSTM Layer and some dropout regularization\n",
    "regressor.add(LSTM(units = 64, return_sequences = True, input_shape=(x_train.shape[1], 1))) # (no of units, return sequence, input shape)\n",
    "# Since we're using a stacked LSTM, we need to set return sequence to 'true'\n",
    "regressor.add(Dropout(0.2)) # 20% dropout (recommended value)\n",
    "# Adding 2nd LSTM Layer and some dropout regularization\n",
    "regressor.add(LSTM(units = 64, return_sequences = True)) # (no of units, return sequence, input shape)\n",
    "regressor.add(Dropout(0.2)) # 20% dropout (recommended value)\n",
    "# Adding 3rd LSTM Layer and some dropout regularization\n",
    "regressor.add(LSTM(units = 128, return_sequences = True)) # (no of units, return sequence, input shape)\n",
    "regressor.add(Dropout(0.2)) # 20% dropout (recommended value)\n",
    "# Adding 4th LSTM Layer and some dropout regularization (last LSTM layer so return sequence must be false)\n",
    "regressor.add(LSTM(units = 64)) # (no of units, return sequence, input shape)\n",
    "regressor.add(Dropout(0.2)) # 20% dropout (recommended value)\n",
    "# Adding Output Layer\n",
    "regressor.add(Dense(units = 1)) # Output is the stock price for the next time step (single output)"
   ]
  },
  {
   "cell_type": "code",
   "execution_count": 17,
   "metadata": {},
   "outputs": [],
   "source": [
    "# Compiling the RNN\n",
    "# usually RMSprop optimizer is suggested for RNN\n",
    "regressor.compile(optimizer='adam', loss='mean_squared_error')"
   ]
  },
  {
   "cell_type": "code",
   "execution_count": null,
   "metadata": {},
   "outputs": [],
   "source": [
    "# Fitting the RNN to the training set\n",
    "regressor.fit(x_train, y_train, epochs = 100, batch_size = 32)"
   ]
  },
  {
   "cell_type": "markdown",
   "metadata": {},
   "source": [
    "Making Predictions and Visualization"
   ]
  }
 ],
 "metadata": {
  "kernelspec": {
   "display_name": "Python 3",
   "language": "python",
   "name": "python3"
  },
  "language_info": {
   "codemirror_mode": {
    "name": "ipython",
    "version": 3
   },
   "file_extension": ".py",
   "mimetype": "text/x-python",
   "name": "python",
   "nbconvert_exporter": "python",
   "pygments_lexer": "ipython3",
   "version": "3.9.5"
  }
 },
 "nbformat": 4,
 "nbformat_minor": 2
}
