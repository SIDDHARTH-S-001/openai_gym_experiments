{
 "cells": [
  {
   "cell_type": "markdown",
   "metadata": {},
   "source": [
    "Libraries"
   ]
  },
  {
   "cell_type": "code",
   "execution_count": 14,
   "metadata": {},
   "outputs": [],
   "source": [
    "import numpy as np\n",
    "import matplotlib.pyplot as plt\n",
    "import pandas as pd\n",
    "\n",
    "from sklearn.preprocessing import MinMaxScaler\n",
    "\n",
    "from keras.models import Sequential\n",
    "from keras.layers import Dense, LSTM, Dropout"
   ]
  },
  {
   "cell_type": "markdown",
   "metadata": {},
   "source": [
    "Data Preprocessing"
   ]
  },
  {
   "cell_type": "code",
   "execution_count": 12,
   "metadata": {},
   "outputs": [],
   "source": [
    "# Import training set\n",
    "train_path = 'D:/Onedrive/experiments/experiments/ML\\DL/P16-Deep-Learning-AZ/Deep Learning A-Z/Part 3 - Recurrent Neural Networks (RNN)/Google_Stock_Price_Train.csv'\n",
    "dataset_train = pd.read_csv(train_path)\n",
    "training_set = dataset_train.iloc[:, 1:2].values # only the 'open' column\n",
    "\n",
    "# Feature Scaling\n",
    "# its recommended to use normalization when sigmoid is used as activation function\n",
    "sc = MinMaxScaler(feature_range=(0, 1))\n",
    "training_set_scaled = sc.fit_transform(training_set)\n",
    "\n",
    "# Creating a data structure with 60 time steps and 1 output\n",
    "# basically the last 60 time steps of data will be used to predict the next output\n",
    "x_train = [] # last 60 stock prices\n",
    "y_train = [] # next output\n",
    "# also means we have to start predicting from 60th day onwards and not from day 1\n",
    "for i in range(60, 1258):\n",
    "    x_train.append(training_set_scaled[i - 60: i, 0])\n",
    "    y_train.append(training_set_scaled[i, 0])\n",
    "\n",
    "x_train, y_train = np.array(x_train), np.array(y_train)\n",
    "\n",
    "# Reshaping the data to include more params later (if required)\n",
    "x_train = np.reshape(x_train, (x_train.shape[0], x_train.shape[1], 1))\n"
   ]
  },
  {
   "cell_type": "markdown",
   "metadata": {},
   "source": [
    "Building the RNN"
   ]
  },
  {
   "cell_type": "code",
   "execution_count": 16,
   "metadata": {},
   "outputs": [],
   "source": [
    "# Building a stacked LSTM with dropouts to prevent overfitting\n",
    "# Initialize the RNN\n",
    "regressor = Sequential()\n",
    "# Adding 1st LSTM Layer and some dropout regularization\n",
    "regressor.add(LSTM(units = 64, return_sequences = True, input_shape=(x_train.shape[1], 1))) # (no of units, return sequence, input shape)\n",
    "# Since we're using a stacked LSTM, we need to set return sequence to 'true'\n",
    "regressor.add(Dropout(0.2)) # 20% dropout (recommended value)\n",
    "# Adding 2nd LSTM Layer and some dropout regularization\n",
    "regressor.add(LSTM(units = 64, return_sequences = True)) # (no of units, return sequence, input shape)\n",
    "regressor.add(Dropout(0.2)) # 20% dropout (recommended value)\n",
    "# Adding 3rd LSTM Layer and some dropout regularization\n",
    "regressor.add(LSTM(units = 128, return_sequences = True)) # (no of units, return sequence, input shape)\n",
    "regressor.add(Dropout(0.2)) # 20% dropout (recommended value)\n",
    "# Adding 4th LSTM Layer and some dropout regularization (last LSTM layer so return sequence must be false)\n",
    "regressor.add(LSTM(units = 64)) # (no of units, return sequence, input shape)\n",
    "regressor.add(Dropout(0.2)) # 20% dropout (recommended value)\n",
    "# Adding Output Layer\n",
    "regressor.add(Dense(units = 1)) # Output is the stock price for the next time step (single output)"
   ]
  },
  {
   "cell_type": "code",
   "execution_count": 17,
   "metadata": {},
   "outputs": [],
   "source": [
    "# Compiling the RNN\n",
    "# usually RMSprop optimizer is suggested for RNN\n",
    "regressor.compile(optimizer='adam', loss='mean_squared_error')"
   ]
  },
  {
   "cell_type": "code",
   "execution_count": 18,
   "metadata": {},
   "outputs": [
    {
     "name": "stdout",
     "output_type": "stream",
     "text": [
      "Epoch 1/100\n",
      "38/38 [==============================] - 7s 80ms/step - loss: 0.0304\n",
      "Epoch 2/100\n",
      "38/38 [==============================] - 3s 75ms/step - loss: 0.0050\n",
      "Epoch 3/100\n",
      "38/38 [==============================] - 3s 79ms/step - loss: 0.0044\n",
      "Epoch 4/100\n",
      "38/38 [==============================] - 3s 77ms/step - loss: 0.0044\n",
      "Epoch 5/100\n",
      "38/38 [==============================] - 5s 128ms/step - loss: 0.0043\n",
      "Epoch 6/100\n",
      "38/38 [==============================] - 6s 152ms/step - loss: 0.0040\n",
      "Epoch 7/100\n",
      "38/38 [==============================] - 6s 149ms/step - loss: 0.0042\n",
      "Epoch 8/100\n",
      "38/38 [==============================] - 6s 148ms/step - loss: 0.0038\n",
      "Epoch 9/100\n",
      "38/38 [==============================] - 5s 142ms/step - loss: 0.0038\n",
      "Epoch 10/100\n",
      "38/38 [==============================] - 3s 78ms/step - loss: 0.0034\n",
      "Epoch 11/100\n",
      "38/38 [==============================] - 3s 80ms/step - loss: 0.0032\n",
      "Epoch 12/100\n",
      "38/38 [==============================] - 3s 76ms/step - loss: 0.0034\n",
      "Epoch 13/100\n",
      "38/38 [==============================] - 3s 79ms/step - loss: 0.0032\n",
      "Epoch 14/100\n",
      "38/38 [==============================] - 3s 92ms/step - loss: 0.0038\n",
      "Epoch 15/100\n",
      "38/38 [==============================] - 4s 107ms/step - loss: 0.0048\n",
      "Epoch 16/100\n",
      "38/38 [==============================] - 4s 117ms/step - loss: 0.0036\n",
      "Epoch 17/100\n",
      "38/38 [==============================] - 4s 117ms/step - loss: 0.0029\n",
      "Epoch 18/100\n",
      "38/38 [==============================] - 6s 149ms/step - loss: 0.0034\n",
      "Epoch 19/100\n",
      "38/38 [==============================] - 6s 150ms/step - loss: 0.0028\n",
      "Epoch 20/100\n",
      "38/38 [==============================] - 8s 200ms/step - loss: 0.0031\n",
      "Epoch 21/100\n",
      "38/38 [==============================] - 3s 71ms/step - loss: 0.0031\n",
      "Epoch 22/100\n",
      "38/38 [==============================] - 3s 88ms/step - loss: 0.0029\n",
      "Epoch 23/100\n",
      "38/38 [==============================] - 5s 134ms/step - loss: 0.0032\n",
      "Epoch 24/100\n",
      "38/38 [==============================] - 6s 147ms/step - loss: 0.0029\n",
      "Epoch 25/100\n",
      "38/38 [==============================] - 5s 132ms/step - loss: 0.0029\n",
      "Epoch 26/100\n",
      "38/38 [==============================] - 4s 103ms/step - loss: 0.0028\n",
      "Epoch 27/100\n",
      "38/38 [==============================] - 5s 129ms/step - loss: 0.0026\n",
      "Epoch 28/100\n",
      "38/38 [==============================] - 6s 147ms/step - loss: 0.0029\n",
      "Epoch 29/100\n",
      "38/38 [==============================] - 5s 138ms/step - loss: 0.0023\n",
      "Epoch 30/100\n",
      "38/38 [==============================] - 6s 150ms/step - loss: 0.0025\n",
      "Epoch 31/100\n",
      "38/38 [==============================] - 6s 166ms/step - loss: 0.0026\n",
      "Epoch 32/100\n",
      "38/38 [==============================] - 8s 210ms/step - loss: 0.0024\n",
      "Epoch 33/100\n",
      "38/38 [==============================] - 7s 173ms/step - loss: 0.0023\n",
      "Epoch 34/100\n",
      "38/38 [==============================] - 3s 92ms/step - loss: 0.0025\n",
      "Epoch 35/100\n",
      "38/38 [==============================] - 4s 113ms/step - loss: 0.0024\n",
      "Epoch 36/100\n",
      "38/38 [==============================] - 7s 175ms/step - loss: 0.0025\n",
      "Epoch 37/100\n",
      "38/38 [==============================] - 8s 209ms/step - loss: 0.0028\n",
      "Epoch 38/100\n",
      "38/38 [==============================] - 8s 211ms/step - loss: 0.0026\n",
      "Epoch 39/100\n",
      "38/38 [==============================] - 8s 212ms/step - loss: 0.0022\n",
      "Epoch 40/100\n",
      "38/38 [==============================] - 6s 155ms/step - loss: 0.0024\n",
      "Epoch 41/100\n",
      "38/38 [==============================] - 4s 110ms/step - loss: 0.0022\n",
      "Epoch 42/100\n",
      "38/38 [==============================] - 4s 100ms/step - loss: 0.0024\n",
      "Epoch 43/100\n",
      "38/38 [==============================] - 4s 105ms/step - loss: 0.0023\n",
      "Epoch 44/100\n",
      "38/38 [==============================] - 4s 96ms/step - loss: 0.0021\n",
      "Epoch 45/100\n",
      "38/38 [==============================] - 5s 127ms/step - loss: 0.0022\n",
      "Epoch 46/100\n",
      "38/38 [==============================] - 4s 103ms/step - loss: 0.0024\n",
      "Epoch 47/100\n",
      "38/38 [==============================] - 4s 113ms/step - loss: 0.0022\n",
      "Epoch 48/100\n",
      "38/38 [==============================] - 4s 109ms/step - loss: 0.0020\n",
      "Epoch 49/100\n",
      "38/38 [==============================] - 6s 148ms/step - loss: 0.0018\n",
      "Epoch 50/100\n",
      "38/38 [==============================] - 5s 130ms/step - loss: 0.0019\n",
      "Epoch 51/100\n",
      "38/38 [==============================] - 5s 121ms/step - loss: 0.0020\n",
      "Epoch 52/100\n",
      "38/38 [==============================] - 6s 147ms/step - loss: 0.0018\n",
      "Epoch 53/100\n",
      "38/38 [==============================] - 6s 160ms/step - loss: 0.0021\n",
      "Epoch 54/100\n",
      "38/38 [==============================] - 6s 164ms/step - loss: 0.0018\n",
      "Epoch 55/100\n",
      "38/38 [==============================] - 6s 163ms/step - loss: 0.0017\n",
      "Epoch 56/100\n",
      "38/38 [==============================] - 6s 162ms/step - loss: 0.0019\n",
      "Epoch 57/100\n",
      "38/38 [==============================] - 6s 165ms/step - loss: 0.0017\n",
      "Epoch 58/100\n",
      "38/38 [==============================] - 6s 169ms/step - loss: 0.0017\n",
      "Epoch 59/100\n",
      "38/38 [==============================] - 5s 140ms/step - loss: 0.0016\n",
      "Epoch 60/100\n",
      "38/38 [==============================] - 3s 72ms/step - loss: 0.0020\n",
      "Epoch 61/100\n",
      "38/38 [==============================] - 4s 96ms/step - loss: 0.0018\n",
      "Epoch 62/100\n",
      "38/38 [==============================] - 5s 120ms/step - loss: 0.0017\n",
      "Epoch 63/100\n",
      "38/38 [==============================] - 5s 123ms/step - loss: 0.0019\n",
      "Epoch 64/100\n",
      "38/38 [==============================] - 5s 132ms/step - loss: 0.0019\n",
      "Epoch 65/100\n",
      "38/38 [==============================] - 5s 122ms/step - loss: 0.0015\n",
      "Epoch 66/100\n",
      "38/38 [==============================] - 5s 120ms/step - loss: 0.0016\n",
      "Epoch 67/100\n",
      "38/38 [==============================] - 4s 115ms/step - loss: 0.0016\n",
      "Epoch 68/100\n",
      "38/38 [==============================] - 4s 116ms/step - loss: 0.0015\n",
      "Epoch 69/100\n",
      "38/38 [==============================] - 4s 115ms/step - loss: 0.0016\n",
      "Epoch 70/100\n",
      "38/38 [==============================] - 4s 114ms/step - loss: 0.0014\n",
      "Epoch 71/100\n",
      "38/38 [==============================] - 4s 114ms/step - loss: 0.0015\n",
      "Epoch 72/100\n",
      "38/38 [==============================] - 4s 102ms/step - loss: 0.0017\n",
      "Epoch 73/100\n",
      "38/38 [==============================] - 4s 98ms/step - loss: 0.0019\n",
      "Epoch 74/100\n",
      "38/38 [==============================] - 4s 107ms/step - loss: 0.0015\n",
      "Epoch 75/100\n",
      "38/38 [==============================] - 4s 113ms/step - loss: 0.0018\n",
      "Epoch 76/100\n",
      "38/38 [==============================] - 5s 118ms/step - loss: 0.0015\n",
      "Epoch 77/100\n",
      "38/38 [==============================] - 5s 123ms/step - loss: 0.0016\n",
      "Epoch 78/100\n",
      "38/38 [==============================] - 5s 126ms/step - loss: 0.0014\n",
      "Epoch 79/100\n",
      "38/38 [==============================] - 5s 122ms/step - loss: 0.0016\n",
      "Epoch 80/100\n",
      "38/38 [==============================] - 5s 122ms/step - loss: 0.0015\n",
      "Epoch 81/100\n",
      "38/38 [==============================] - 5s 130ms/step - loss: 0.0016\n",
      "Epoch 82/100\n",
      "38/38 [==============================] - 5s 119ms/step - loss: 0.0015\n",
      "Epoch 83/100\n",
      "38/38 [==============================] - 5s 124ms/step - loss: 0.0015\n",
      "Epoch 84/100\n",
      "38/38 [==============================] - 5s 122ms/step - loss: 0.0015\n",
      "Epoch 85/100\n",
      "38/38 [==============================] - 5s 129ms/step - loss: 0.0013\n",
      "Epoch 86/100\n",
      "38/38 [==============================] - 5s 122ms/step - loss: 0.0016\n",
      "Epoch 87/100\n",
      "38/38 [==============================] - 5s 126ms/step - loss: 0.0014\n",
      "Epoch 88/100\n",
      "38/38 [==============================] - 5s 131ms/step - loss: 0.0014\n",
      "Epoch 89/100\n",
      "38/38 [==============================] - 5s 123ms/step - loss: 0.0013\n",
      "Epoch 90/100\n",
      "38/38 [==============================] - 6s 168ms/step - loss: 0.0013\n",
      "Epoch 91/100\n",
      "38/38 [==============================] - 6s 170ms/step - loss: 0.0013\n",
      "Epoch 92/100\n",
      "38/38 [==============================] - 6s 170ms/step - loss: 0.0014\n",
      "Epoch 93/100\n",
      "38/38 [==============================] - 6s 158ms/step - loss: 0.0013\n",
      "Epoch 94/100\n",
      "38/38 [==============================] - 6s 157ms/step - loss: 0.0012\n",
      "Epoch 95/100\n",
      "38/38 [==============================] - 6s 157ms/step - loss: 0.0014\n",
      "Epoch 96/100\n",
      "38/38 [==============================] - 6s 156ms/step - loss: 0.0014\n",
      "Epoch 97/100\n",
      "38/38 [==============================] - 6s 163ms/step - loss: 0.0013\n",
      "Epoch 98/100\n",
      "38/38 [==============================] - 6s 168ms/step - loss: 0.0012\n",
      "Epoch 99/100\n",
      "38/38 [==============================] - 6s 164ms/step - loss: 0.0014\n",
      "Epoch 100/100\n",
      "38/38 [==============================] - 6s 168ms/step - loss: 0.0013\n"
     ]
    },
    {
     "data": {
      "text/plain": [
       "<keras.callbacks.History at 0x2727675eac0>"
      ]
     },
     "execution_count": 18,
     "metadata": {},
     "output_type": "execute_result"
    }
   ],
   "source": [
    "# Fitting the RNN to the training set\n",
    "regressor.fit(x_train, y_train, epochs = 100, batch_size = 32)"
   ]
  },
  {
   "cell_type": "markdown",
   "metadata": {},
   "source": [
    "Making Predictions and Visualization"
   ]
  },
  {
   "cell_type": "code",
   "execution_count": 19,
   "metadata": {},
   "outputs": [],
   "source": [
    "# Getting the real stock price of 2017 (January)\n",
    "# Loading test set\n",
    "test_path = 'D:/Onedrive/experiments/experiments/ML/DL/P16-Deep-Learning-AZ\\Deep Learning A-Z/Part 3 - Recurrent Neural Networks (RNN)/Google_Stock_Price_Test.csv'\n",
    "dataset_test = pd.read_csv(test_path)\n",
    "real_stock_price = dataset_test.iloc[:, 1:2].values\n"
   ]
  },
  {
   "cell_type": "code",
   "execution_count": 24,
   "metadata": {},
   "outputs": [
    {
     "name": "stderr",
     "output_type": "stream",
     "text": [
      "C:\\Users\\SIDDHARTH\\AppData\\Local\\Temp\\ipykernel_25368\\1106527374.py:4: FutureWarning: The behavior of `series[i:j]` with an integer-dtype index is deprecated. In a future version, this will be treated as *label-based* indexing, consistent with e.g. `series[i]` lookups. To retain the old behavior, use `series.iloc[i:j]`. To get the future behavior, use `series.loc[i:j]`.\n",
      "  inputs = dataset_total[len(dataset_total) - len(dataset_test) - 60 :].values\n"
     ]
    },
    {
     "name": "stdout",
     "output_type": "stream",
     "text": [
      "1/1 [==============================] - 1s 1s/step\n"
     ]
    }
   ],
   "source": [
    "# Get the predicted stock price of 2017 (January)\n",
    "dataset_total = pd.concat((dataset_train['Open'], dataset_test['Open']), axis=0) \n",
    "# vertical concatenation - axis 0 & horizontal concatenation - axis 1\n",
    "inputs = dataset_total[len(dataset_total) - len(dataset_test) - 60 :].values\n",
    "inputs = inputs.reshape(-1, 1)\n",
    "inputs = sc.transform(inputs)\n",
    "x_test = []\n",
    "\n",
    "for i in range(60, 80):\n",
    "    x_test.append(inputs[i-60:i, 0])\n",
    "\n",
    "x_test = np.array(x_test)\n",
    "x_test = np.reshape(x_test, (x_test.shape[0], x_test.shape[1], 1))\n",
    "predicted_stock_price = regressor.predict(x_test)\n",
    "predicted_stock_price = sc.inverse_transform(predicted_stock_price)\n"
   ]
  },
  {
   "cell_type": "code",
   "execution_count": 25,
   "metadata": {},
   "outputs": [
    {
     "data": {
      "text/plain": [
       "array([[797.5374 ],\n",
       "       [794.48737],\n",
       "       [796.2316 ],\n",
       "       [797.6136 ],\n",
       "       [801.4346 ],\n",
       "       [808.236  ],\n",
       "       [812.9632 ],\n",
       "       [813.62445],\n",
       "       [813.8171 ],\n",
       "       [814.1447 ],\n",
       "       [814.4656 ],\n",
       "       [814.44354],\n",
       "       [814.36774],\n",
       "       [815.2387 ],\n",
       "       [816.24884],\n",
       "       [822.6974 ],\n",
       "       [830.30646],\n",
       "       [837.55914],\n",
       "       [839.8082 ],\n",
       "       [832.1338 ]], dtype=float32)"
      ]
     },
     "execution_count": 25,
     "metadata": {},
     "output_type": "execute_result"
    }
   ],
   "source": [
    "predicted_stock_price"
   ]
  },
  {
   "cell_type": "code",
   "execution_count": 26,
   "metadata": {},
   "outputs": [
    {
     "data": {
      "image/png": "[encoded data removed]",
      "text/plain": [
       "<Figure size 640x480 with 1 Axes>"
      ]
     },
     "metadata": {},
     "output_type": "display_data"
    }
   ],
   "source": [
    "# Visualizing the results\n",
    "plt.plot(real_stock_price, color='red', label = 'real google stock price')\n",
    "plt.plot(predicted_stock_price, color='blue', label = 'Predicted google stock price')\n",
    "plt.title('Google Stock Price Prediction')\n",
    "plt.xlabel('Time')\n",
    "plt.ylabel('Stock Price')\n",
    "plt.legend()\n",
    "plt.show()"
   ]
  },
  {
   "cell_type": "code",
   "execution_count": null,
   "metadata": {},
   "outputs": [],
   "source": []
  }
 ],
 "metadata": {
  "kernelspec": {
   "display_name": "Python 3",
   "language": "python",
   "name": "python3"
  },
  "language_info": {
   "codemirror_mode": {
    "name": "ipython",
    "version": 3
   },
   "file_extension": ".py",
   "mimetype": "text/x-python",
   "name": "python",
   "nbconvert_exporter": "python",
   "pygments_lexer": "ipython3",
   "version": "3.9.5"
  }
 },
 "nbformat": 4,
 "nbformat_minor": 2
}
